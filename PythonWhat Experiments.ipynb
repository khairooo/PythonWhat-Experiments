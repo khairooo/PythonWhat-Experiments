{
 "cells": [
  {
   "cell_type": "markdown",
   "metadata": {},
   "source": [
    "`pythonwhat` is a Python library (developed by [DataCamp](https://datacamp.com)) that lets you verify Python code submissions and auto-generate meaningful feedback messages. Originally developed for Python exercises on DataCamp for so-called Submission Correctness Tests, but can also be used independently."
   ]
  },
  {
   "cell_type": "code",
   "execution_count": 17,
   "metadata": {},
   "outputs": [],
   "source": [
    "from pythonwhat.test_exercise import prep_context\n",
    "\n",
    "_, ctxt = prep_context()\n",
    "globals().update(ctxt)"
   ]
  },
  {
   "cell_type": "code",
   "execution_count": 9,
   "metadata": {},
   "outputs": [
    {
     "data": {
      "text/plain": [
       "<pythonwhat.check_syntax.Chain at 0x6e3c030>"
      ]
     },
     "execution_count": 9,
     "metadata": {},
     "output_type": "execute_result"
    }
   ],
   "source": [
    "# For local setup\n",
    "from pythonwhat.local import setup_state\n",
    "\n",
    "setup_state(stu_code = \"import pandas as pd\\\n",
    "                        \\npd.DataFrame([1, 2, 3], columns=['a'])\", \\\n",
    "            sol_code = \"import pandas as pd\\\n",
    "                        \\npd.DataFrame([1, 2, 3], columns=['a'])\")"
   ]
  },
  {
   "cell_type": "code",
   "execution_count": 10,
   "metadata": {},
   "outputs": [
    {
     "name": "stdout",
     "output_type": "stream",
     "text": [
      "Code all corect!\n"
     ]
    }
   ],
   "source": [
    "# sct - Student Correctness Test\n",
    "# sct\n",
    "try:\n",
    "    Ex().check_function('pandas.DataFrame')\\\n",
    "    .multi(\n",
    "        check_args('data').has_equal_value(),\n",
    "        check_args('columns').has_equal_value())\n",
    "    print('Code all corect!')\n",
    "except Exception as e:\n",
    "    print(e)"
   ]
  },
  {
   "cell_type": "code",
   "execution_count": 3,
   "metadata": {},
   "outputs": [
    {
     "data": {
      "text/plain": [
       "<pythonwhat.check_syntax.Chain at 0x697a310>"
      ]
     },
     "execution_count": 3,
     "metadata": {},
     "output_type": "execute_result"
    }
   ],
   "source": [
    "# In case student submits incorrect solution\n",
    "setup_state(stu_code = \"import pandas as pd\\\n",
    "                        \\npd.DataFrame([1, 2, 3, 4], columns=['a'])\", \\\n",
    "            sol_code = \"import pandas as pd\\\n",
    "                        \\npd.DataFrame([1, 2, 3], columns=['a'])\")"
   ]
  },
  {
   "cell_type": "code",
   "execution_count": 6,
   "metadata": {},
   "outputs": [
    {
     "name": "stdout",
     "output_type": "stream",
     "text": [
      "Check your call of `pd.DataFrame()`. Did you correctly specify the argument `data`? Expected `[1, 2, 3]`, but got `[1, 2, 3, 4]`.\n"
     ]
    }
   ],
   "source": [
    "# sct\n",
    "try:\n",
    "    Ex().check_function('pandas.DataFrame')\\\n",
    "    .multi(\n",
    "        check_args('data').has_equal_value(),\n",
    "        check_args('columns').has_equal_value())\n",
    "        print('Code all corect!')\n",
    "except Exception as e:\n",
    "    print(e)"
   ]
  },
  {
   "cell_type": "markdown",
   "metadata": {},
   "source": [
    "Let's now try coding a way where we can load in `.py` files and incorporate `SCT`s over them. We start by defining the solution i.e. for example, if we are testing if the student is able to initialize with a proper value (as instructed) we can start off by defining the expected value of the variable with which it should be initialized. "
   ]
  },
  {
   "cell_type": "code",
   "execution_count": 15,
   "metadata": {},
   "outputs": [],
   "source": [
    "# Solution\n",
    "x = 'Sayak Paul'"
   ]
  },
  {
   "cell_type": "code",
   "execution_count": 27,
   "metadata": {
    "scrolled": true
   },
   "outputs": [],
   "source": [
    "# Load in the student code and solution code files (.py)\n",
    "student_code = open('stu_code.py').read()\n",
    "solution_code = open('sol_code.py').read()"
   ]
  },
  {
   "cell_type": "markdown",
   "metadata": {},
   "source": [
    "We now can follow the exact same procedure we followed above. "
   ]
  },
  {
   "cell_type": "code",
   "execution_count": 29,
   "metadata": {},
   "outputs": [
    {
     "data": {
      "text/plain": [
       "<pythonwhat.check_syntax.Chain at 0x6a131d0>"
      ]
     },
     "execution_count": 29,
     "metadata": {},
     "output_type": "execute_result"
    }
   ],
   "source": [
    "setup_state(stu_code = student_code, \\\n",
    "            sol_code = solution_code)"
   ]
  },
  {
   "cell_type": "code",
   "execution_count": 31,
   "metadata": {},
   "outputs": [
    {
     "name": "stdout",
     "output_type": "stream",
     "text": [
      "Code all correct!\n"
     ]
    }
   ],
   "source": [
    "# sct\n",
    "try:\n",
    "    Ex().check_object('x').has_equal_value()\n",
    "    print('Code all correct!')\n",
    "except Exception as e:\n",
    "    print(e)"
   ]
  },
  {
   "cell_type": "markdown",
   "metadata": {},
   "source": [
    "In case of a wrong submission: "
   ]
  },
  {
   "cell_type": "code",
   "execution_count": 33,
   "metadata": {},
   "outputs": [
    {
     "name": "stdout",
     "output_type": "stream",
     "text": [
      "Did you correctly define the variable `x`? Expected `Sayak Paul`, but got `Sayak`.\n"
     ]
    }
   ],
   "source": [
    "student_code_wrong = open('stu_code_wrong.py').read()\n",
    "\n",
    "setup_state(stu_code = student_code_wrong, \\\n",
    "            sol_code = solution_code)\n",
    "# sct\n",
    "try:\n",
    "    Ex().check_object('x').has_equal_value()\n",
    "    print('Code all correct!')\n",
    "except Exception as e:\n",
    "    print(e)"
   ]
  },
  {
   "cell_type": "markdown",
   "metadata": {},
   "source": [
    "Let us now see if this scales well to files containing more lines of codes. Let's start simple. We are now examining for code files containing three lines of codes and specifically, we are interested in testing `if-else` conditioning. "
   ]
  },
  {
   "cell_type": "code",
   "execution_count": 41,
   "metadata": {},
   "outputs": [],
   "source": [
    "# Load in student and solution code files\n",
    "student_code = open('more_stu_code.py').read()\n",
    "solution_code = open('more_sol_code.py').read()"
   ]
  },
  {
   "cell_type": "code",
   "execution_count": 42,
   "metadata": {},
   "outputs": [
    {
     "name": "stdout",
     "output_type": "stream",
     "text": [
      "Code all correct!\n"
     ]
    }
   ],
   "source": [
    "setup_state(stu_code = student_code, \\\n",
    "            sol_code = solution_code)\n",
    "# sct\n",
    "try:\n",
    "    Ex().check_if_else().multi(\n",
    "    check_test().multi(\n",
    "        set_env(x = -1).has_equal_value(),\n",
    "        set_env(x =  1).has_equal_value(),\n",
    "        set_env(x =  0).has_equal_value()\n",
    "    ),\n",
    "    check_body().check_function('print', 0).\\\n",
    "        check_args('value').has_equal_value())\n",
    "    print('Code all correct!')\n",
    "except Exception as e:\n",
    "    print(e)"
   ]
  },
  {
   "cell_type": "code",
   "execution_count": 43,
   "metadata": {},
   "outputs": [
    {
     "name": "stdout",
     "output_type": "stream",
     "text": [
      "Check the first if statement. Did you correctly specify the body? Have you specified the arguments for `print()` using the right syntax?\n"
     ]
    }
   ],
   "source": [
    "student_wrong_code = open('more_stu_wrong.py').read()\n",
    "\n",
    "setup_state(stu_code = student_wrong_code, \\\n",
    "            sol_code = solution_code)\n",
    "# sct\n",
    "try:\n",
    "    Ex().check_if_else().multi(\n",
    "    check_test().multi(\n",
    "        set_env(x = -1).has_equal_value(),\n",
    "        set_env(x =  1).has_equal_value(),\n",
    "        set_env(x =  0).has_equal_value()\n",
    "    ),\n",
    "    check_body().check_function('print', 0).\\\n",
    "        check_args('value').has_equal_value())\n",
    "    print('Code all correct!')\n",
    "except Exception as e:\n",
    "    print(e)"
   ]
  },
  {
   "cell_type": "markdown",
   "metadata": {},
   "source": [
    "Isn't this amazing? "
   ]
  },
  {
   "cell_type": "markdown",
   "metadata": {},
   "source": [
    "### References: \n",
    "\n",
    "* https://pythonwhat.readthedocs.io\n",
    "* https://github.com/datacamp/pythonwhat"
   ]
  }
 ],
 "metadata": {
  "kernelspec": {
   "display_name": "Python 3",
   "language": "python",
   "name": "python3"
  },
  "language_info": {
   "codemirror_mode": {
    "name": "ipython",
    "version": 3
   },
   "file_extension": ".py",
   "mimetype": "text/x-python",
   "name": "python",
   "nbconvert_exporter": "python",
   "pygments_lexer": "ipython3",
   "version": "3.6.5"
  },
  "latex_envs": {
   "LaTeX_envs_menu_present": true,
   "autoclose": false,
   "autocomplete": true,
   "bibliofile": "biblio.bib",
   "cite_by": "apalike",
   "current_citInitial": 1,
   "eqLabelWithNumbers": true,
   "eqNumInitial": 1,
   "hotkeys": {
    "equation": "Ctrl-E",
    "itemize": "Ctrl-I"
   },
   "labels_anchors": false,
   "latex_user_defs": false,
   "report_style_numbering": false,
   "user_envs_cfg": false
  },
  "toc": {
   "base_numbering": 1,
   "nav_menu": {},
   "number_sections": false,
   "sideBar": true,
   "skip_h1_title": false,
   "title_cell": "Table of Contents",
   "title_sidebar": "Contents",
   "toc_cell": false,
   "toc_position": {},
   "toc_section_display": true,
   "toc_window_display": false
  }
 },
 "nbformat": 4,
 "nbformat_minor": 2
}
