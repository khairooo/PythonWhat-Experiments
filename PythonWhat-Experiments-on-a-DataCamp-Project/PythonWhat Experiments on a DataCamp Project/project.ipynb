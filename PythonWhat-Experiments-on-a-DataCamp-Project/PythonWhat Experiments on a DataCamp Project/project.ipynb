{
 "cells": [
  {
   "cell_type": "markdown",
   "metadata": {},
   "source": [
    "# Predicting Credit Card Approvals"
   ]
  },
  {
   "cell_type": "code",
   "execution_count": null,
   "metadata": {},
   "outputs": [],
   "source": [
    "#!pip install nose\n",
    "#!pip install git+https://github.com/datacamp/ipython_nose\n",
    "# and then load in the ipython_nose extension like this:\n",
    "%load_ext ipython_nose"
   ]
  },
  {
   "cell_type": "markdown",
   "metadata": {
    "tags": [
     "type:NotebookTask"
    ]
   },
   "source": [
    "## 1. Credit card applications"
   ]
  },
  {
   "cell_type": "markdown",
   "metadata": {
    "tags": [
     "@context"
    ]
   },
   "source": [
    "Commercial banks receive _a lot_ of applications for credit cards. Many of them get rejected for many reasons, like high loan balances, low income levels, or too many inquiries on an individual's credit report, for example. Manually analyzing these applications is mundane, error-prone, and time-consuming (and time is money!). Luckily, this task can be automated with the power of machine learning and pretty much every commercial bank does so nowadays. In this notebook, we will build an automatic credit card approval predictor using machine learning techniques, just like the real banks do!\n",
    "\n",
    "![Credit card being held in hand](img/credit_card.jpg)\n",
    "\n",
    "We'll use the [Credit Card Approval dataset](http://archive.ics.uci.edu/ml/datasets/credit+approval) from the UCI Machine Learning Repository. The structure of this notebook is as follows:\n",
    "\n",
    "- First, we will start off by loading and viewing the dataset.\n",
    "- We will see that the dataset has a mixture of both numerical and non-numerical features, that it contains values from different ranges, plus that it contains a number of missing entries.\n",
    "- We will have to preprocess the dataset to ensure the machine learning model we choose can make good predictions.\n",
    "- After our data is in good shape, we will do some exploratory data analysis to build our intuitions.\n",
    "- Finally, we will build a machine learning model that can predict if an individual's application for a credit card will be accepted.\n",
    "\n",
    "First, loading and viewing the dataset. We find that since this data is confidential, the contributor of the dataset has anonymized the feature names."
   ]
  },
  {
   "cell_type": "markdown",
   "metadata": {
    "tags": [
     "@instructions"
    ]
   },
   "source": [
    "Load and look at the dataset. *Note: this project is [soft launched](https://en.wikipedia.org/wiki/Soft_launch), which means you may experience some bugs. Please click \"Report an Issue\" in the top-right corner of the screen to provide feedback.*\n",
    "- Import the pandas library under the alias `pd`.\n",
    "- Load the dataset, `\"datasets/cc_approvals.data\"`, into a pandas DataFrame called `cc_apps`. Set the `header` argument to `None`.\n",
    "- Print the first 5 rows of `cc_apps` using the `head()` method.\n",
    "\n",
    "<hr>\n",
    "\n",
    "### Good to know\n",
    "\n",
    "For this project, it is recommended that you know basic Python programming, the `pandas` and `numpy` packages, some data preprocessing, and a little bit of machine learning. Here are some resources that may be helpful throughout the project:\n",
    "- For a quick introduction to Python:\n",
    "    - [DataCamp's Intro to Python for Data Science course](https://www.datacamp.com/courses/intro-to-python-for-data-science)\n",
    "- For learning the basics of the `pandas` and `numpy` packages:\n",
    "    - [DataCamp's pandas Foundations course](https://www.datacamp.com/courses/pandas-foundations)\n",
    "    - [pandas Cheatsheet](https://www.datacamp.com/community/blog/python-pandas-cheat-sheet)\n",
    "    - [NumPy Cheat Sheet](https://www.datacamp.com/community/blog/python-numpy-cheat-sheet)\n",
    "- For data preprocessing:\n",
    "    - [Preprocessing in Data Science (Part 1)](https://www.datacamp.com/community/tutorials/preprocessing-in-data-science-part-1-centering-scaling-and-knn)\n",
    "    - [Preprocessing in Data Science (Part 2)](https://www.datacamp.com/community/tutorials/preprocessing-in-data-science-part-2-centering-scaling-and-logistic-regression)\n",
    "    - [Preprocessing in Data Science (Part 3)](https://www.datacamp.com/community/tutorials/preprocessing-in-data-science-part-3-scaling-synthesized-data)\n",
    "- For machine learning:\n",
    "    - Google's [Machine Learning Crash Course](https://developers.google.com/machine-learning/crash-course/)\n",
    "    - [Supervised Learning with scikit-learn](https://www.datacamp.com/courses/supervised-learning-with-scikit-learn)\n",
    "\n",
    "Apart from the above, we encourage you to use your preferred search engine to find other useful resources."
   ]
  },
  {
   "cell_type": "markdown",
   "metadata": {
    "tags": [
     "@hint"
    ]
   },
   "source": [
    "You can read `\"path_to/my_data.data\"` into a DataFrame named `my_data` like so after importing pandas:\n",
    "\n",
    "```python\n",
    "import pandas as pd\n",
    "my_data = pd.read_csv(\"path_to/my_data.data\")\n",
    "```\n",
    "Pay close attention to the `header` parameter of the `read_csv()` method."
   ]
  },
  {
   "cell_type": "code",
   "execution_count": null,
   "metadata": {
    "tags": [
     "@sample_code"
    ]
   },
   "outputs": [],
   "source": [
    "# Import pandas\n",
    "# ... YOUR CODE FOR TASK 1 ...\n",
    "\n",
    "# Load dataset\n",
    "cc_apps = ...\n",
    "\n",
    "# Inspect data\n",
    "# ... YOUR CODE FOR TASK 1 ..."
   ]
  },
  {
   "cell_type": "code",
   "execution_count": null,
   "metadata": {
    "scrolled": false,
    "tags": [
     "@solution"
    ]
   },
   "outputs": [],
   "source": [
    "# Import pandas\n",
    "import pandas as pd\n",
    "\n",
    "# Load dataset\n",
    "cc_apps = pd.read_csv(\"datasets/cc_approvals.data\", header=None)\n",
    "\n",
    "# Inspect data\n",
    "cc_apps.head()"
   ]
  },
  {
   "cell_type": "code",
   "execution_count": null,
   "metadata": {
    "tags": [
     "@tests"
    ]
   },
   "outputs": [],
   "source": [
    "%%nose\n",
    "import pandas as pd\n",
    "\n",
    "def test_cc_apps_exists():\n",
    "    assert \"cc_apps\" in globals(), \\\n",
    "        \"The variable cc_apps should be defined.\"\n",
    "        \n",
    "def test_cc_apps_correctly_loaded():\n",
    "    correct_cc_apps = pd.read_csv(\"datasets/cc_approvals.data\", header=None)\n",
    "    try:\n",
    "        pd.testing.assert_frame_equal(cc_apps, correct_cc_apps)\n",
    "    except AssertionError:\n",
    "        assert False, \"The variable cc_apps should contain the data as present in datasets/cc_approvals.data.\""
   ]
  },
  {
   "cell_type": "markdown",
   "metadata": {
    "tags": [
     "type:NotebookTask"
    ]
   },
   "source": [
    "## 2. Inspecting the applications"
   ]
  },
  {
   "cell_type": "markdown",
   "metadata": {
    "tags": [
     "@context"
    ]
   },
   "source": [
    "The output may appear a bit confusing at its first sight, but let's try to figure out the most important features of a credit card application. The features of this dataset have been anonymized to protect the privacy, but [this blog](http://rstudio-pubs-static.s3.amazonaws.com/73039_9946de135c0a49daa7a0a9eda4a67a72.html) gives us a pretty good overview of the probable features. The probable features in a typical credit card application are `Gender`, `Age`, `Debt`, `Married`, `BankCustomer`, `EducationLevel`, `Ethnicity`, `YearsEmployed`, `PriorDefault`, `Employed`, `CreditScore`, `DriversLicense`, `Citizen`, `ZipCode`, `Income` and finally the `ApprovalStatus`. This gives us a pretty good starting point, and we can map these features with respect to the columns in the output.   \n",
    "\n",
    "As we can see from our first glance at the data, the dataset has a mixture of numerical and non-numerical features. This can be fixed with some preprocessing, but before we do that, let's learn about the dataset a bit more to see if there are other dataset issues that need to be fixed."
   ]
  },
  {
   "cell_type": "markdown",
   "metadata": {
    "tags": [
     "@instructions"
    ]
   },
   "source": [
    "Inspect the structure, numerical summary, and specific rows of the dataset.\n",
    "- Extract the summary statistics of the data using the `describe()` method of `cc_apps`.\n",
    "- Use the `info()` method of `cc_apps` to get more information about the DataFrame.\n",
    "- Print the last 17 rows of `cc_apps` using the `tail()` method to display missing values.\n",
    "\n",
    "<hr>\n",
    "\n",
    "Helpful links:\n",
    "- pandas `tail()` method [documentation](https://pandas.pydata.org/pandas-docs/stable/generated/pandas.DataFrame.tail.html)"
   ]
  },
  {
   "cell_type": "markdown",
   "metadata": {
    "tags": [
     "@hint"
    ]
   },
   "source": [
    "You can use the `describe()` method of a DataFrame named `my_data` like this:\n",
    "\n",
    "```python\n",
    "my_data.describe()\n",
    "```"
   ]
  },
  {
   "cell_type": "code",
   "execution_count": null,
   "metadata": {
    "tags": [
     "@sample_code"
    ]
   },
   "outputs": [],
   "source": [
    "# Print summary statistics\n",
    "cc_apps_description = ...\n",
    "print(cc_apps_description)\n",
    "\n",
    "print(\"\\n\")\n",
    "\n",
    "# Print DataFrame information\n",
    "cc_apps_info = ...\n",
    "print(cc_apps_info)\n",
    "\n",
    "print(\"\\n\")\n",
    "\n",
    "# Inspect missing values in the dataset\n",
    "# ... YOUR CODE FOR TASK 2 ..."
   ]
  },
  {
   "cell_type": "code",
   "execution_count": null,
   "metadata": {
    "tags": [
     "@solution"
    ]
   },
   "outputs": [],
   "source": [
    "# Print summary statistics\n",
    "cc_apps_description = cc_apps.describe()\n",
    "print(cc_apps_description)\n",
    "\n",
    "print(\"\\n\")\n",
    "\n",
    "# Print DataFrame information\n",
    "cc_apps_info = cc_apps.info()\n",
    "print(cc_apps_info)\n",
    "\n",
    "print(\"\\n\")\n",
    "\n",
    "# Inspect missing values in the dataset\n",
    "cc_apps.tail(17)"
   ]
  },
  {
   "cell_type": "code",
   "execution_count": null,
   "metadata": {
    "tags": [
     "@tests"
    ]
   },
   "outputs": [],
   "source": [
    "%%nose\n",
    "\n",
    "def test_cc_apps_description_exists():\n",
    "    assert \"cc_apps_description\" in globals(), \\\n",
    "        \"The variable cc_apps_description should be defined.\"\n",
    "\n",
    "def test_cc_apps_description_correctly_done():\n",
    "    correct_cc_apps_description = cc_apps.describe()\n",
    "    assert str(cc_apps_description) == str(correct_cc_apps_description), \\\n",
    "        \"cc_apps_description should contain the output of cc_apps.describe().\"\n",
    "    \n",
    "def test_cc_apps_info_exists():\n",
    "    assert \"cc_apps_info\" in globals(), \\\n",
    "        \"The variable cc_apps_info should be defined.\"\n",
    "\n",
    "def test_cc_apps_info_correctly_done():\n",
    "    correct_cc_apps_info = cc_apps.info()\n",
    "    assert str(cc_apps_info) == str(correct_cc_apps_info), \\\n",
    "        \"cc_apps_info should contain the output of cc_apps.info().\""
   ]
  },
  {
   "cell_type": "markdown",
   "metadata": {
    "tags": [
     "type:NotebookTask"
    ]
   },
   "source": [
    "## 3. Handling the missing values (part i) "
   ]
  },
  {
   "cell_type": "markdown",
   "metadata": {
    "tags": [
     "@context"
    ]
   },
   "source": [
    "We've uncovered some issues that will affect the performance of our machine learning model(s) if they go unchanged:\n",
    "\n",
    "- Our dataset contains both numeric and non-numeric data (specifically data that are of `float64`, `int64` and `object` types). Specifically, the features 2, 7, 10 and 14 contain numeric values (of types float64, float64, int64 and int64 respectively) and all the other features contain non-numeric values.\n",
    "- The dataset also contains values from several ranges. Some features have a value range of 0 - 28, some have a range of 2 - 67, and some have a range of 1017 - 100000. Apart from these, we can get useful statistical information (like `mean`, `max`, and `min`) about the features that have numerical values. \n",
    "- Finally, the dataset has missing values, which we'll take care of in this task. The missing values in the dataset are labeled with '?', which can be seen in the last cell's output.\n",
    "\n",
    "Now, let's temporarily replace these missing value question marks with NaN."
   ]
  },
  {
   "cell_type": "markdown",
   "metadata": {
    "tags": [
     "@instructions"
    ]
   },
   "source": [
    "Inspect the missing values in the dataset and replace the question marks with NaN.\n",
    "- Import the numpy library under the alias `np`.\n",
    "- Print the last 17 rows of the dataset. \n",
    "- Replace the '?'s with NaNs using the `replace()` method.\n",
    "- Print the last 17 rows of `cc_apps` using the `tail()` method to confirm that the `replace()` method performed as expected.\n",
    "\n",
    "<hr>\n",
    "\n",
    "Helpful links:\n",
    "- pandas `replace()` method [documentation](https://pandas.pydata.org/pandas-docs/stable/generated/pandas.DataFrame.replace.html)\n",
    "- NumPy data types for [special values](https://docs.scipy.org/doc/numpy-1.13.0/user/misc.html)"
   ]
  },
  {
   "cell_type": "markdown",
   "metadata": {
    "tags": [
     "@hint"
    ]
   },
   "source": [
    "If you import the `numpy` module as aliased as `np` then you can use `np.NaN` for replacing the desired values (which in this case are denoted with question marks) to NaNs. \n",
    "\n",
    "You can call the `replace()` method on `my_data` and then overwrite it like this:\n",
    "```python\n",
    "my_data = my_data.replace(replacing_value, np.NaN)\n",
    "```"
   ]
  },
  {
   "cell_type": "code",
   "execution_count": null,
   "metadata": {
    "tags": [
     "@sample_code"
    ]
   },
   "outputs": [],
   "source": [
    "# Import numpy\n",
    "# ... YOUR CODE FOR TASK 3 ...\n",
    "\n",
    "# Inspect missing values in the dataset\n",
    "print(...)\n",
    "\n",
    "# Replace the '?'s with NaN\n",
    "cc_apps = ...\n",
    "\n",
    "# Inspect the missing values again\n",
    "# ... YOUR CODE FOR TASK 3 ..."
   ]
  },
  {
   "cell_type": "code",
   "execution_count": null,
   "metadata": {
    "tags": [
     "@solution"
    ]
   },
   "outputs": [],
   "source": [
    "# Import numpy\n",
    "import numpy as np\n",
    "\n",
    "# Inspect missing values in the dataset\n",
    "print(cc_apps.tail(17))\n",
    "\n",
    "# Replace the '?'s with NaN\n",
    "cc_apps = cc_apps.replace('?', np.nan)\n",
    "\n",
    "# Inspect the missing values again\n",
    "cc_apps.tail(17)"
   ]
  },
  {
   "cell_type": "code",
   "execution_count": null,
   "metadata": {
    "tags": [
     "@tests"
    ]
   },
   "outputs": [],
   "source": [
    "%%nose\n",
    "\n",
    "# def test_cc_apps_assigned():\n",
    "#     assert \"cc_apps\" in globals(), \\\n",
    "#         \"After the NaN replacement, it should be assigned to the same variable cc_apps only.\"\n",
    "\n",
    "def test_cc_apps_correctly_replaced():\n",
    "    cc_apps_fresh = pd.read_csv(\"datasets/cc_approvals.data\", header=None)\n",
    "    correct_cc_apps_replacement = cc_apps_fresh.replace('?', np.NaN)\n",
    "    string_cc_apps_replacement = cc_apps_fresh.replace('?', \"NaN\")\n",
    "#     assert cc_apps.to_string() == correct_cc_apps_replacement.to_string(), \\\n",
    "#         \"The code that replaces question marks with NaNs doesn't appear to be correct.\"\n",
    "    try:\n",
    "        pd.testing.assert_frame_equal(cc_apps, correct_cc_apps_replacement)\n",
    "    except AssertionError:\n",
    "        if string_cc_apps_replacement.equals(cc_apps):\n",
    "            assert False, \"It looks like the question marks were replaced by the string \\\"NaN\\\". Missing values should be represented by `np.nan`.\"\n",
    "        else:\n",
    "            assert False, \"The variable cc_apps should contain the data in datasets/cc_approvals.data.\""
   ]
  },
  {
   "cell_type": "markdown",
   "metadata": {
    "tags": [
     "type:NotebookTask"
    ]
   },
   "source": [
    "## 4. Handling the missing values (part ii)"
   ]
  },
  {
   "cell_type": "markdown",
   "metadata": {
    "tags": [
     "@context"
    ]
   },
   "source": [
    "We replaced all the question marks with NaNs. This is going to help us in the next missing value treatment that we are going to perform.\n",
    "\n",
    "An important question that gets raised here is _why are we giving so much importance to missing values_? Can't they be just ignored? Ignoring missing values can affect the performance of a machine learning model heavily. While ignoring the missing values our machine learning model may miss out on information about the dataset that may be useful for its training. Then, there are many models which cannot handle missing values implicitly such as LDA. \n",
    "\n",
    "So, to avoid this problem, we are going to impute the missing values with a strategy called mean imputation."
   ]
  },
  {
   "cell_type": "markdown",
   "metadata": {
    "tags": [
     "@instructions"
    ]
   },
   "source": [
    "Impute the NaN values with the mean imputation approach.\n",
    "- For the numeric columns, impute the missing values (NaNs) with pandas method `fillna()`.\n",
    "- Verify if the `fillna()` method performed as expected by printing the total number of NaNs in each column.\n",
    "\n",
    "<hr>\n",
    "\n",
    "Remember that you have already marked all the question marks as NaNs. pandas provides `fillna()` to help you impute missing values with different strategies, mean imputation being one of them. pandas also has a `mean()` method to calculate the mean of a DataFrame. As your dataset contains both numeric and non-numeric data, for this task you will only impute the missing values (NaNs) present in the columns having numeric data-types (columns 2, 7, 10 and 14). \n",
    "\n",
    "Helpful links:\n",
    "- mean imputation [tutorial](https://machinelearningmastery.com/handle-missing-data-python/)\n",
    "- pandas `fillna()` method [documentation](https://pandas.pydata.org/pandas-docs/stable/generated/pandas.DataFrame.fillna.html)\n",
    "- pandas `mean()` method [documentation](https://pandas.pydata.org/pandas-docs/version/0.23.4/generated/pandas.DataFrame.mean.html)\n",
    "- pandas `isnull()` method [documentation](https://pandas.pydata.org/pandas-docs/version/0.23.4/generated/pandas.isnull.html)"
   ]
  },
  {
   "cell_type": "markdown",
   "metadata": {
    "tags": [
     "@hint"
    ]
   },
   "source": [
    "You can call the `fillna()` method on a pandas DataFrame like this:\n",
    "\n",
    "```python\n",
    "my_data.fillna(my_data.mean(), inplace=True)\n",
    "```\n",
    "\n",
    "Please note that the `fillna()` method implicitly handles the imputations for the columns containing numeric data-types. The `inplace` parameter is set to `True` to allow the DataFrame to mutate. You can count the number of NaNs in a dataset by using the `isnull()` and `sum()` methods in conjugation. "
   ]
  },
  {
   "cell_type": "code",
   "execution_count": null,
   "metadata": {
    "tags": [
     "@sample_code"
    ]
   },
   "outputs": [],
   "source": [
    "# Impute the missing values with mean imputation\n",
    "cc_apps.fillna(..., inplace=True)\n",
    "\n",
    "# Count the number of NaNs in the dataset to verify\n",
    "# ... YOUR CODE FOR TASK 4 ..."
   ]
  },
  {
   "cell_type": "code",
   "execution_count": null,
   "metadata": {
    "tags": [
     "@solution"
    ]
   },
   "outputs": [],
   "source": [
    "# Impute the missing values with mean imputation\n",
    "cc_apps.fillna(cc_apps.mean(), inplace=True)\n",
    "\n",
    "# Count the number of NaNs in the dataset and print the counts to verify\n",
    "print(cc_apps.isnull().sum())"
   ]
  },
  {
   "cell_type": "code",
   "execution_count": null,
   "metadata": {
    "tags": [
     "@tests"
    ]
   },
   "outputs": [],
   "source": [
    "%%nose\n",
    "\n",
    "def test_cc_apps_correctly_imputed():\n",
    "    assert cc_apps.isnull().values.sum() == 67, \\\n",
    "        \"There should be 67 null values after your code is run, but there aren't.\""
   ]
  },
  {
   "cell_type": "markdown",
   "metadata": {
    "tags": [
     "type:NotebookTask"
    ]
   },
   "source": [
    "## 5. Handling the missing values (part iii)"
   ]
  },
  {
   "cell_type": "markdown",
   "metadata": {
    "tags": [
     "@context"
    ]
   },
   "source": [
    "We have successfully taken care of the missing values present in the numeric columns. There are still some missing values to be imputed for columns 0, 1, 3, 4, 5, 6 and 13. All of these columns contain non-numeric data and this why the mean imputation strategy would not work here. This needs a different treatment. \n",
    "\n",
    "We are going to impute these missing values with the most frequent values as present in the respective columns. This is [good practice](https://www.datacamp.com/community/tutorials/categorical-data) when it comes to imputing missing values for categorical data in general."
   ]
  },
  {
   "cell_type": "markdown",
   "metadata": {
    "tags": [
     "@instructions"
    ]
   },
   "source": [
    "Impute the missing values in the non-numeric columns.\n",
    "- Iterate over each column of `cc_apps` using a `for` loop.\n",
    "- Check if the data-type of the column is of `object` type by using the `dtypes` keyword.\n",
    "- Using the `fillna()` method, impute the column's missing values with the most frequent value of that column with the `value_counts()` method and index attribute and assign it to `cc_apps`. \n",
    "- Finally, verify if there are any more missing values in the dataset that are left to be imputed by printing the total number of NaNs in each column. \n",
    " \n",
    "\n",
    "<hr>\n",
    "\n",
    "The column names of a pandas DataFrame can be accessed using `columns` attribute. The `dtypes`  attribute provides the data type. In this part, `object` is the data type that you should be concerned about. The `value_counts()` method returns the frequency distribution of each value in the column, and the `index` attribute can then be used to get the most frequent value.\n",
    "\n",
    "Helpful links:\n",
    "- pandas `value_counts()` method [documentation](https://pandas.pydata.org/pandas-docs/stable/generated/pandas.Series.value_counts.html)\n",
    "- Accessing the `index` attribute in a [tutorial](https://www.datacamp.com/community/tutorials/categorical-data) \n",
    "- Method chaining with pandas [tutorial](https://www.datacamp.com/community/tutorials/pandas-idiomatic)"
   ]
  },
  {
   "cell_type": "markdown",
   "metadata": {
    "tags": [
     "@hint"
    ]
   },
   "source": [
    "You can check to see if a column in `my_data` is non-numeric like this:\n",
    "```python\n",
    "my_data['column_name'].dtypes=='object'\n",
    "```\n",
    "\n",
    "You can get the most frequent value present in `my_data` like this: \n",
    "```python \n",
    "my_data(['column_name'].value_counts().index[0])\n",
    "```\n",
    "\n",
    "The above code-snippets will work only if the column names are not of integer type. "
   ]
  },
  {
   "cell_type": "code",
   "execution_count": null,
   "metadata": {
    "tags": [
     "@sample_code"
    ]
   },
   "outputs": [],
   "source": [
    "# Iterate over each column of cc_apps\n",
    "for col in ...:\n",
    "    # Check if the column is of object type\n",
    "    if cc_apps[col].... == 'object':\n",
    "        # Impute with the most frequent value\n",
    "        cc_apps = cc_apps....(...[col]....)\n",
    "\n",
    "# Count the number of NaNs in the dataset and print the counts to verify\n",
    "# ... YOUR CODE FOR TASK 5 ..."
   ]
  },
  {
   "cell_type": "code",
   "execution_count": null,
   "metadata": {
    "tags": [
     "@solution"
    ]
   },
   "outputs": [],
   "source": [
    "# Iterate over each column of cc_apps\n",
    "for col in cc_apps.columns:\n",
    "    # Check if the column is of object type\n",
    "    if cc_apps[col].dtypes == 'object':\n",
    "        # Impute with the most frequent value\n",
    "        cc_apps = cc_apps.fillna(cc_apps[col].value_counts().index[0])\n",
    "\n",
    "# Count the number of NaNs in the dataset and print the counts to verify\n",
    "print(cc_apps.isnull().sum())"
   ]
  },
  {
   "cell_type": "code",
   "execution_count": null,
   "metadata": {
    "tags": [
     "@tests"
    ]
   },
   "outputs": [],
   "source": [
    "%%nose\n",
    "\n",
    "def test_cc_apps_correctly_imputed():\n",
    "    assert cc_apps.isnull().values.sum() == 0, \\\n",
    "        \"There should be 0 null values after your code is run, but there isn't.\""
   ]
  },
  {
   "cell_type": "markdown",
   "metadata": {
    "tags": [
     "type:NotebookTask"
    ]
   },
   "source": [
    "## 6. Preprocessing the data (part i)"
   ]
  },
  {
   "cell_type": "markdown",
   "metadata": {
    "tags": [
     "@context"
    ]
   },
   "source": [
    "The missing values are now successfully handled.\n",
    "\n",
    "There is still some minor but essential data preprocessing needed before we proceed towards building our machine learning model. We are going to divide these remaining preprocessing steps into three main tasks:\n",
    "1. Convert the non-numeric data into numeric.\n",
    "2. Split the data into train and test sets. \n",
    "2. Scale the feature values to a uniform range.\n",
    "\n",
    "First, we will be converting all the non-numeric values into numeric ones. We do this because not only it results in a faster computation but also many machine learning models (like XGBoost) (and especially the ones developed using scikit-learn) require the data to be in a strictly numeric format. We will do this by using a technique called [label encoding](http://scikit-learn.org/stable/modules/generated/sklearn.preprocessing.LabelEncoder.html)."
   ]
  },
  {
   "cell_type": "markdown",
   "metadata": {
    "tags": [
     "@instructions"
    ]
   },
   "source": [
    "Convert the non-numeric values to numeric. \n",
    "- Import the `LabelEncoder` class from `sklearn.preprocessing` module.\n",
    "- Instantiate `LabelEncoder()` into  a variable `le`.\n",
    "- Iterate over all the **values** of each column `cc_apps` and check their data types using a `for` loop. \n",
    "- If the data type is found to be of `object` type, label encode it to transform into numeric (such as `int64`) type.\n",
    "\n",
    "<hr>\n",
    "\n",
    "The values of each column a pandas DataFrame can be accessed using `columns` and `values` attributes consecutively. The `dtypes`  attribute provides the data type. In this part, `object` is the data type that you should be concerned about. \n",
    "\n",
    "Helpful links:\n",
    "- Checking data types of the columns in a DataFrame [Stack Overflow answer](https://stackoverflow.com/questions/40353079/pandas-how-to-check-dtype-for-all-columns-in-a-dataframe)\n",
    "- sklearn `LabelEncoder` class [documentation](http://scikit-learn.org/stable/modules/generated/sklearn.preprocessing.LabelEncoder.html)"
   ]
  },
  {
   "cell_type": "markdown",
   "metadata": {
    "tags": [
     "@hint"
    ]
   },
   "source": [
    "You can access the values of a column like this `my_data['column_name'].values` or like this `my_data.column_name.values`.\n",
    "\n",
    "You can check to see if a column in `my_data` is non-numeric like this:\n",
    "```python\n",
    "my_data['column_name'].dtypes=='object'\n",
    "```"
   ]
  },
  {
   "cell_type": "code",
   "execution_count": null,
   "metadata": {
    "tags": [
     "@sample_code"
    ]
   },
   "outputs": [],
   "source": [
    "# Import LabelEncoder\n",
    "# ... YOUR CODE FOR TASK 6 ...\n",
    "\n",
    "# Instantiate LabelEncoder\n",
    "# ... YOUR CODE FOR TASK 6 ...\n",
    "\n",
    "# Iterate over all the values of each column and extract their dtypes\n",
    "for col in ...:\n",
    "    # Compare if the dtype is object\n",
    "    if cc_apps[col]....=='...':\n",
    "    # Use LabelEncoder to do the numeric transformation\n",
    "        cc_apps[col]=le....(cc_apps[col])"
   ]
  },
  {
   "cell_type": "code",
   "execution_count": null,
   "metadata": {
    "tags": [
     "@solution"
    ]
   },
   "outputs": [],
   "source": [
    "# Import LabelEncoder\n",
    "from sklearn.preprocessing import LabelEncoder\n",
    "\n",
    "# Instantiate LabelEncoder\n",
    "le=LabelEncoder()\n",
    "\n",
    "# Iterate over all the values of each column and extract their dtypes\n",
    "for col in cc_apps.columns.values:\n",
    "    # Compare if the dtype is object\n",
    "    if cc_apps[col].dtypes=='object':\n",
    "    # Use LabelEncoder to do the numeric transformation\n",
    "        cc_apps[col]=le.fit_transform(cc_apps[col])"
   ]
  },
  {
   "cell_type": "code",
   "execution_count": null,
   "metadata": {
    "tags": [
     "@tests"
    ]
   },
   "outputs": [],
   "source": [
    "%%nose\n",
    "\n",
    "def test_le_exists():\n",
    "    assert \"le\" in globals(), \\\n",
    "        \"The variable le should be defined.\"\n",
    "\n",
    "def test_label_encoding_done_correctly():\n",
    "    for cols in cc_apps.columns:\n",
    "        if np.issubdtype(cc_apps[col].dtype, np.number) != True:\n",
    "            assert \"It doesn't appear that all of the non-numeric columns were converted to numeric using fit_transform.\""
   ]
  },
  {
   "cell_type": "markdown",
   "metadata": {
    "tags": [
     "type:NotebookTask"
    ]
   },
   "source": [
    "## 7. Splitting the dataset into train and test sets"
   ]
  },
  {
   "cell_type": "markdown",
   "metadata": {
    "tags": [
     "@context"
    ]
   },
   "source": [
    "We have successfully converted all the non-numeric values to numeric ones.\n",
    "\n",
    "Now, we will split our data into train set and test set to prepare our data for two different phases of machine learning modeling: training and testing. Ideally, no information from the test data should be used to scale the training data or should be used to direct the training process of a machine learning model. Hence, we first split the data and then apply the scaling.\n",
    "\n",
    "Also, features like `DriversLicense` and `ZipCode` are not as important as the other features in the dataset for predicting credit card approvals. We should drop them to design our machine learning model with the best set of features. In Data Science literature, this is often referred to as _feature selection_. "
   ]
  },
  {
   "cell_type": "markdown",
   "metadata": {
    "tags": [
     "@instructions"
    ]
   },
   "source": [
    "Split the preprocessed dataset into train and test sets.\n",
    "- Import `train_test_split` from the `sklearn.model_selection` module.\n",
    "- Drop features 11 and 13 using the `drop()` method and convert the DataFrame to a NumPy array using `.values`.\n",
    "- Segregate the features and labels into `X` and `y` (the column with index 13 is the label column).\n",
    "- Using the `train_test_split()` method, split the data into train and test sets with a split ratio of 33% (`test_size` argument) and set the `random_state` argument to 42.\n",
    "\n",
    "<hr>\n",
    "\n",
    "A NumPy array can be segregated using array slicing. Before slicing, take note of the total number of columns that should be present in the array after dropping features 11 and 13. \n",
    "\n",
    "Setting `random_state` ensures the dataset is split with same sets of instances every time the code is run. \n",
    "\n",
    "Helpful links:\n",
    "- pandas `drop()` method [documentation](https://pandas.pydata.org/pandas-docs/stable/generated/pandas.DataFrame.drop.html)\n",
    "- NumPy indexing and slicing [tutorial](https://www.tutorialspoint.com/numpy/numpy_indexing_and_slicing.htm)\n",
    "- sklearn `train_test_split()` method [documentation](https://scikit-learn.org/stable/modules/generated/sklearn.model_selection.train_test_split.html)"
   ]
  },
  {
   "cell_type": "markdown",
   "metadata": {
    "tags": [
     "@hint"
    ]
   },
   "source": [
    "If you have a NumPy array, `number_array`, with five elements, you can select all the elements except the last one like this:\n",
    "\n",
    "```python\n",
    "x = number_array[:,0:4]\n",
    "```\n",
    "\n",
    "Also, remember that after deletion of two the features (`DriversLicense` and `ZipCode`), you will have a total of 14 features. \n",
    "\n",
    "You can split a dataset with 20% split ratio using the `train_test_split()` method like following (you want 33% for this task, though):\n",
    "```python\n",
    "X_train, X_test, y_train, y_test = train_test_split(X, y, test_size=0.2, random_state=42)\n",
    "```"
   ]
  },
  {
   "cell_type": "code",
   "execution_count": null,
   "metadata": {
    "tags": [
     "@sample_code"
    ]
   },
   "outputs": [],
   "source": [
    "# Import train_test_split\n",
    "# ... YOUR CODE FOR TASK 7 ...\n",
    "\n",
    "# Drop the features 11 and 13 and convert the DataFrame to a NumPy array\n",
    "cc_apps = cc_apps.drop([..., ...], axis=1)\n",
    "cc_apps = cc_apps....\n",
    "\n",
    "# Segregate features and labels into separate variables\n",
    "X,y = cc_apps[:,0:...] , cc_apps[:,...]\n",
    "\n",
    "# Split into train and test sets\n",
    "..., X_test, y_train, ... = ...(...,\n",
    "                                y,\n",
    "                                test_size=...,\n",
    "                                random_state=...)"
   ]
  },
  {
   "cell_type": "code",
   "execution_count": null,
   "metadata": {
    "tags": [
     "@solution"
    ]
   },
   "outputs": [],
   "source": [
    "# Import train_test_split\n",
    "from sklearn.model_selection import train_test_split\n",
    "\n",
    "# Drop the features 11 and 13 and convert the DataFrame to a NumPy array\n",
    "cc_apps = cc_apps.drop([11, 13], axis=1)\n",
    "cc_apps = cc_apps.values\n",
    "\n",
    "# Segregate features and labels into separate variables\n",
    "X,y = cc_apps[:,0:13] , cc_apps[:,13]\n",
    "\n",
    "# Split into train and test sets\n",
    "X_train, X_test, y_train, y_test = train_test_split(X\n",
    "                                                    ,\n",
    "                                                    y,\n",
    "                                                    test_size=0.33,\n",
    "                                                    random_state=42)"
   ]
  },
  {
   "cell_type": "code",
   "execution_count": null,
   "metadata": {
    "tags": [
     "@tests"
    ]
   },
   "outputs": [],
   "source": [
    "%%nose\n",
    "\n",
    "def test_columns_dropped_correctly():\n",
    "    assert cc_apps.shape == (690,14), \\\n",
    "        \"The shape of the DataFrame isn't correct. Did you drop two columns?\"\n",
    "\n",
    "def test_data_split_correctly():\n",
    "    X_train_correct, X_test_correct, y_train_correct, y_test_correct = train_test_split(X, y, \\\n",
    "                                                                                   test_size=0.33, random_state=42)\n",
    "    assert X_train.all() == X_train_correct.all() and X_test.all() == X_test_correct.all() and \\\n",
    "            y_train.all() == y_train_correct.all() and y_test.all() == y_test_correct.all(), \\\n",
    "                \"It doesn't appear that the data splitting was done correctly.\""
   ]
  },
  {
   "cell_type": "markdown",
   "metadata": {
    "tags": [
     "type:NotebookTask"
    ]
   },
   "source": [
    "## 8. Preprocessing the data (part ii)"
   ]
  },
  {
   "cell_type": "markdown",
   "metadata": {
    "tags": [
     "@context"
    ]
   },
   "source": [
    "The data is now split into two separate sets - train and test sets respectively. We are only left with one final preprocessing step of scaling before we can fit a machine learning model to the data. \n",
    "\n",
    "Now, let's try to understand what these scaled values mean in the real world. Let's use `CreditScore` as an example. The credit score of a person is their creditworthiness based on their credit history. The higher this number, the more financially trustworthy a person is considered to be. So, a `CreditScore` of 1 is the highest since we're rescaling all the values to the range of 0-1."
   ]
  },
  {
   "cell_type": "markdown",
   "metadata": {
    "tags": [
     "@instructions"
    ]
   },
   "source": [
    "Drop `DriversLicense` and `ZipCode` features and rescale the data.\n",
    "- Import the `MinMaxScaler` class from the `sklearn.preprocessing` module.\n",
    "- Instantiate `MinMaxScaler` class in a variable called `scaler` with the `feature_range` parameter set to `(0,1)` to rescale `X_train` and `X_test`.\n",
    "\n",
    "<hr>\n",
    "\n",
    "When a dataset has varying ranges as in this credit card approvals dataset, one a small change in a particular feature may not have a significant effect on the other feature, which can cause a lot of problems when predictive modeling.\n",
    "\n",
    "Helpful links:\n",
    "- sklearn's `MinMaxScaler` class [documentation](http://scikit-learn.org/stable/modules/generated/sklearn.preprocessing.MinMaxScaler.html)"
   ]
  },
  {
   "cell_type": "markdown",
   "metadata": {
    "tags": [
     "@hint"
    ]
   },
   "source": [
    "You can scale a NumPy array `Test_array` and assign it to a variable like so after instantiating `MinMaxScaler` with appropriate parameters into a variable `scaler`:\n",
    "```python\n",
    "rescaledTest_array = scaler.fit_transform(Test_array)\n",
    "```"
   ]
  },
  {
   "cell_type": "code",
   "execution_count": null,
   "metadata": {
    "tags": [
     "@sample_code"
    ]
   },
   "outputs": [],
   "source": [
    "# Import MinMaxScaler\n",
    "# ... YOUR CODE FOR TASK 8 ...\n",
    "\n",
    "# Instantiate MinMaxScaler and use it to rescale X_train and X_test\n",
    "scaler = MinMaxScaler(feature_range=(..., ...))\n",
    "rescaledX_train = scaler.....(...)\n",
    "rescaledX_test = scaler.....(...)"
   ]
  },
  {
   "cell_type": "code",
   "execution_count": null,
   "metadata": {
    "tags": [
     "@solution"
    ]
   },
   "outputs": [],
   "source": [
    "# Import MinMaxScaler\n",
    "from sklearn.preprocessing import MinMaxScaler\n",
    "\n",
    "# Instantiate MinMaxScaler and use it to rescale X_train and X_test\n",
    "scaler = MinMaxScaler(feature_range=(0, 1))\n",
    "rescaledX_train = scaler.fit_transform(X_train)\n",
    "rescaledX_test = scaler.fit_transform(X_test)"
   ]
  },
  {
   "cell_type": "code",
   "execution_count": null,
   "metadata": {
    "tags": [
     "@tests"
    ]
   },
   "outputs": [],
   "source": [
    "%%nose\n",
    "\n",
    "def test_features_range_set_correctly():\n",
    "    min_value_in_rescaledX_train = np.amin(rescaledX_train)\n",
    "    max_value_in_rescaledX_train = np.amax(rescaledX_train)\n",
    "    min_value_in_rescaledX_test = np.amin(rescaledX_test)\n",
    "    max_value_in_rescaledX_test = np.amax(rescaledX_test)\n",
    "    assert min_value_in_rescaledX_train == 0.0 and max_value_in_rescaledX_train == 1.0 and \\\n",
    "        min_value_in_rescaledX_test == 0.0 and max_value_in_rescaledX_test == 1.0, \\\n",
    "        \"It doesn't appear that the value range was scaled to a minimum of 0 and a maximum of 1.\""
   ]
  },
  {
   "cell_type": "markdown",
   "metadata": {
    "tags": [
     "type:NotebookTask"
    ]
   },
   "source": [
    "## 9. Fitting a logistic regression model to the train set"
   ]
  },
  {
   "cell_type": "markdown",
   "metadata": {
    "tags": [
     "@context"
    ]
   },
   "source": [
    "Essentially, predicting if a credit card application will be approved or not is a [classification](https://en.wikipedia.org/wiki/Statistical_classification) task. [According to UCI](http://archive.ics.uci.edu/ml/machine-learning-databases/credit-screening/crx.names), our dataset contains more instances that correspond to \"Denied\" status than instances corresponding to \"Approved\" status. Specifically, out of 690 instances, there are 383 (55.5%) applications that got denied and 307 (44.5%) applications that got approved. \n",
    "\n",
    "This gives us a benchmark. A good machine learning model should be able to accurately predict the status of the applications with respect to these statistics.\n",
    "\n",
    "Which model should we pick? A question to ask is: _are the features that affect the credit card approval decision process correlated with each other?_ Although we can measure correlation, that is outside the scope of this notebook, so we'll rely on our intuition that they indeed are correlated for now. Because of this correlation, we'll take advantage of the fact that generalized linear models perform well in these cases. Let's start our machine learning modeling with a Logistic Regression model (a generalized linear model)."
   ]
  },
  {
   "cell_type": "markdown",
   "metadata": {
    "tags": [
     "@instructions"
    ]
   },
   "source": [
    "Fit a `LogisticRegression` classifier with `rescaledX_train` and `y_train`.\n",
    "- Import `LogisticRegression` from the `sklearn.linear_model` module. \n",
    "- Instantiate `LogisticRegression` into a variable named `logreg` with default values. \n",
    "- Fit `rescaledX_train` and `y_train` to `logreg` using the `fit()` method.\n",
    "\n",
    "<hr>\n",
    "\n",
    "If a quick refresher on logistic regression's working mechanism is needed, check out this [tutorial](https://www.datacamp.com/community/tutorials/understanding-logistic-regression-python). \n",
    "\n",
    "Helpful links:\n",
    "- sklearn Logistic Regression [documentation](https://scikit-learn.org/stable/modules/generated/sklearn.linear_model.LogisticRegression.html)"
   ]
  },
  {
   "cell_type": "markdown",
   "metadata": {
    "tags": [
     "@hint"
    ]
   },
   "source": [
    "Are you passing the right data to the `LogisticRegression` model? Ensure you pass the training data, which in this case is stored in the `rescaledX_train` and `y_train` variables. "
   ]
  },
  {
   "cell_type": "code",
   "execution_count": null,
   "metadata": {
    "tags": [
     "@sample_code"
    ]
   },
   "outputs": [],
   "source": [
    "# Import LogisticRegression\n",
    "# ... YOUR CODE FOR TASK 9 ...\n",
    "\n",
    "# Instantiate a LogisticRegression classifier with default parameter values\n",
    "logreg = ...\n",
    "\n",
    "# Fit logreg to the train set\n",
    "# ... YOUR CODE FOR TASK 9 ..."
   ]
  },
  {
   "cell_type": "code",
   "execution_count": null,
   "metadata": {
    "tags": [
     "@solution"
    ]
   },
   "outputs": [],
   "source": [
    "# Import LogisticRegression\n",
    "from sklearn.linear_model import LogisticRegression\n",
    "\n",
    "# Instantiate a LogisticRegression classifier with default parameter values\n",
    "logreg = LogisticRegression()\n",
    "\n",
    "# Fit logreg to the train set\n",
    "logreg.fit(rescaledX_train,y_train)"
   ]
  },
  {
   "cell_type": "code",
   "execution_count": null,
   "metadata": {
    "tags": [
     "@tests"
    ]
   },
   "outputs": [],
   "source": [
    "%%nose\n",
    "\n",
    "def test_logreg_defined():\n",
    "    assert \"logreg\" in globals(),\\\n",
    "        \"Did you instantiate LogisticRegression in the logreg variable?\"\n",
    "\n",
    "def test_logreg_defined_correctly():\n",
    "    logreg_correct = LogisticRegression()\n",
    "    assert str(logreg_correct) == str(logreg), \\\n",
    "        \"The logreg variable should be defined with LogisticRegression() only.\""
   ]
  },
  {
   "cell_type": "markdown",
   "metadata": {
    "tags": [
     "type:NotebookTask"
    ]
   },
   "source": [
    "## 10. Making predictions and evaluating performance"
   ]
  },
  {
   "cell_type": "markdown",
   "metadata": {
    "tags": [
     "@context"
    ]
   },
   "source": [
    "But how well does our model perform? \n",
    "\n",
    "We will now evaluate our model on the test set with respect to [classification accuracy](https://developers.google.com/machine-learning/crash-course/classification/accuracy). But we will also take a look the model's [confusion matrix](http://www.dataschool.io/simple-guide-to-confusion-matrix-terminology/). In the case of predicting credit card applications, it is equally important to see if our machine learning model is able to predict the approval status of the applications as denied that originally got denied. If our model is not performing well in this aspect, then it might end up approving the application that should have been approved. The confusion matrix helps us to view our model's performance from these aspects.  "
   ]
  },
  {
   "cell_type": "markdown",
   "metadata": {
    "tags": [
     "@instructions"
    ]
   },
   "source": [
    "Make predictions and evaluate performance.\n",
    "- Import `confusion_matrix()` from `sklearn.metrics` module.\n",
    "- Use `predict()` on `rescaledX_test` (which contains instances of the dataset that `logreg` has not seen until now) and store the predictions in a variable named `y_pred`. \n",
    "- Print the accuracy score of `logreg` using the `score()`. Don't forget to pass `rescaledX_test` and `y_test` to the `score()` method. \n",
    "- Call `confusion_matrix()` with `y_test` and `y_pred` to print the confusion matrix.\n",
    "\n",
    "<hr>\n",
    "\n",
    "Helpful links:\n",
    "- sklearn confusion matrix [documentation](https://scikit-learn.org/stable/modules/generated/sklearn.metrics.confusion_matrix.html)"
   ]
  },
  {
   "cell_type": "markdown",
   "metadata": {
    "tags": [
     "@hint"
    ]
   },
   "source": [
    "Ensure you are only passing the test set instances (`rescaledX_test`) to the `predict()` method.\n",
    "\n",
    "Are you passing the test set correctly to the `score()` method? Ensure you pass both `rescaledX_test` and `y_test`."
   ]
  },
  {
   "cell_type": "code",
   "execution_count": null,
   "metadata": {
    "tags": [
     "@sample_code"
    ]
   },
   "outputs": [],
   "source": [
    "# Import confusion_matrix\n",
    "# ... YOUR CODE FOR TASK 10 ...\n",
    "\n",
    "# Use logreg to predict instances from the test set and store it\n",
    "y_pred = logreg.predict(...)\n",
    "\n",
    "# Get the accuracy score of logreg model and print it\n",
    "print(\"Accuracy of logistic regression classifier: \", ...)\n",
    "\n",
    "# Print the confusion matrix of the logreg model\n",
    "# ... YOUR CODE FOR TASK 10 ..."
   ]
  },
  {
   "cell_type": "code",
   "execution_count": null,
   "metadata": {
    "tags": [
     "@solution"
    ]
   },
   "outputs": [],
   "source": [
    "# Import confusion_matrix\n",
    "from sklearn.metrics import confusion_matrix\n",
    "\n",
    "# Use logreg to predict instances from the test set and store it\n",
    "y_pred = logreg.predict(rescaledX_test)\n",
    "\n",
    "# Get the accuracy score of logreg model and print it\n",
    "print(\"Accuracy of logistic regression classifier: \", logreg.score(rescaledX_test,y_test))\n",
    "\n",
    "# Print the confusion matrix of the logreg model\n",
    "confusion_matrix(y_test,y_pred)"
   ]
  },
  {
   "cell_type": "code",
   "execution_count": null,
   "metadata": {
    "tags": [
     "@tests"
    ]
   },
   "outputs": [],
   "source": [
    "%%nose\n",
    "\n",
    "def test_ypred_defined():\n",
    "    assert \"y_pred\" in globals(),\\\n",
    "        \"The variable y_pred should be defined.\"\n",
    "\n",
    "def test_ypred_defined_correctly():\n",
    "    correct_y_pred = logreg.predict(rescaledX_test)\n",
    "    assert str(correct_y_pred) == str(y_pred),\\\n",
    "        \"The y_pred variable should contain the predictions as made by LogisticRegression on rescaledX_test.\""
   ]
  },
  {
   "cell_type": "markdown",
   "metadata": {
    "tags": [
     "type:NotebookTask"
    ]
   },
   "source": [
    "## 11. Grid searching and making the model perform better"
   ]
  },
  {
   "cell_type": "markdown",
   "metadata": {
    "tags": [
     "@context"
    ]
   },
   "source": [
    "Our model was pretty good! It was able to yield an accuracy score of almost 84%.\n",
    "\n",
    "For the confusion matrix, the first element of the of the first row of the confusion matrix denotes the true negatives meaning the number of negative instances (denied applications) predicted by the model correctly. And the last element of the second row of the confusion matrix denotes the true positives meaning the number of positive instances (approved applications) predicted by the model correctly.\n",
    "\n",
    "Let's see if we can do better. We can perform a [grid search](https://machinelearningmastery.com/how-to-tune-algorithm-parameters-with-scikit-learn/) of the model parameters to improve the model's ability to predict credit card approvals.\n",
    "\n",
    "[scikit-learn's implementation of logistic regression](http://scikit-learn.org/stable/modules/generated/sklearn.linear_model.LogisticRegression.html) consists of different hyperparameters but we will grid search over the following two:\n",
    "- tol\n",
    "- max_iter"
   ]
  },
  {
   "cell_type": "markdown",
   "metadata": {
    "tags": [
     "@instructions"
    ]
   },
   "source": [
    "Define the grid of parameter values for which grid searching is to be performed. \n",
    "- Import `GridSearchCV` from the `sklearn.model_selection` module. \n",
    "- Define the grid of values for `tol` and `max_iter` parameters into `tol` and `max_iter` lists respectively.\n",
    "- For `tol`, define the list with values 0.01, 0.001 and 0.0001. For `max_iter`, define the list with values 100, 150 and 200.\n",
    "- Using the `dict()` method, create a dictionary where `tol` and `max_iter` are keys, and the lists of their values are the corresponding values. Name this dictionary as `param_grid`.\n",
    "\n",
    "<hr>\n",
    "\n",
    "Grid search can be very exhaustive if the model is very complex and the dataset is extremely large. Luckily, that is not the case for this project."
   ]
  },
  {
   "cell_type": "markdown",
   "metadata": {
    "tags": [
     "@hint"
    ]
   },
   "source": [
    "Are you defining the grids properly? The grids should contain `[0.01, 0.001 ,0.0001]` and `[100, 150, 200]` respectively. \n",
    "\n",
    "Are you creating the dictionary properly? You can create a dictionary named `my_dictionary` like this:\n",
    "\n",
    "```python\n",
    "a = [10,20,30]\n",
    "b = [100,200,300]\n",
    "my_dictionary = dict(a=a, b=b)\n",
    "```"
   ]
  },
  {
   "cell_type": "code",
   "execution_count": null,
   "metadata": {
    "tags": [
     "@sample_code"
    ]
   },
   "outputs": [],
   "source": [
    "# Import GridSearchCV\n",
    "# ... YOUR CODE FOR TASK 11 ...\n",
    "\n",
    "# Define the grid of values for tol and max_iter\n",
    "tol = ...\n",
    "max_iter = ...\n",
    "\n",
    "# Create a dictionary where tol and max_iter are keys and the lists of their values are corresponding values\n",
    "param_grid = dict(..., ...)"
   ]
  },
  {
   "cell_type": "code",
   "execution_count": null,
   "metadata": {
    "tags": [
     "@solution"
    ]
   },
   "outputs": [],
   "source": [
    "# Import GridSearchCV\n",
    "from sklearn.model_selection import GridSearchCV\n",
    "\n",
    "# Define the grid of values for tol and max_iter\n",
    "tol = [0.01, 0.001 ,0.0001]\n",
    "max_iter = [100, 150, 200]\n",
    "\n",
    "# Create a dictionary where tol and max_iter are keys and the lists of their values are the corresponding values\n",
    "param_grid = dict(tol=tol, max_iter=max_iter)"
   ]
  },
  {
   "cell_type": "code",
   "execution_count": null,
   "metadata": {
    "tags": [
     "@tests"
    ]
   },
   "outputs": [],
   "source": [
    "%%nose\n",
    "\n",
    "def test_tol_defined():\n",
    "    assert \"tol\" in globals(),\\\n",
    "        \"The variable tol should be defined.\"\n",
    "\n",
    "def test_max_iter_defined():\n",
    "    assert \"max_iter\" in globals(),\\\n",
    "        \"The variable max_iter should be defined.\"\n",
    "    \n",
    "def test_tol_defined_correctly():\n",
    "    correct_tol = [0.01, 0.001 ,0.0001]\n",
    "    assert tol == correct_tol, \\\n",
    "        \"It looks like the tol variable is not defined with the list of correct values.\"\n",
    "    \n",
    "def test_max_iter_defined_correctly():\n",
    "    correct_max_iter = [100, 150, 200]\n",
    "    assert max_iter == correct_max_iter, \\\n",
    "        \"It looks like the max_iter variable is not defined with a list of correct values.\"    \n",
    "  \n",
    "def test_param_grid_defined():\n",
    "    assert \"param_grid\" in globals(),\\\n",
    "        \"The variable param_grid should be defined.\"\n",
    "\n",
    "def test_param_grid_defined_correctly():\n",
    "    correct_param_grid = dict(tol=tol, max_iter=max_iter)\n",
    "    assert str(correct_param_grid) == str(param_grid),\\\n",
    "        \"It looks like the param_grid variable is not defined properly.\""
   ]
  },
  {
   "cell_type": "markdown",
   "metadata": {
    "tags": [
     "type:NotebookTask"
    ]
   },
   "source": [
    "## 12. Finding the best performing model"
   ]
  },
  {
   "cell_type": "markdown",
   "metadata": {
    "tags": [
     "@context"
    ]
   },
   "source": [
    "We have defined the grid of hyperparameter values and converted them into a single dictionary format which `GridSearchCV()` expects as one of its parameters. Now, we will begin the grid search to see which values perform best.\n",
    "\n",
    "We will instantiate `GridSearchCV()` with our earlier `logreg` model with all the data we have. Instead of passing train and test sets separately, we will supply `X` (scaled version) and `y`. We will also instruct `GridSearchCV()` to perform a [cross-validation](https://www.dataschool.io/machine-learning-with-scikit-learn/) of five folds.\n",
    "\n",
    "We'll end the notebook by storing the best-achieved score and the respective best parameters.\n",
    "\n",
    "While building this credit card predictor, we tackled some of the most widely-known preprocessing steps such as **scaling**, **label encoding**, and **missing value imputation**. We finished with some **machine learning** to predict if a person's application for a credit card would get approved or not given some information about that person."
   ]
  },
  {
   "cell_type": "markdown",
   "metadata": {
    "tags": [
     "@instructions"
    ]
   },
   "source": [
    "Find the best score and best parameters for the model using grid search.\n",
    "- Instantiate `GridSearchCV()` with the attributes set as `estimator = logreg`, `param_grid = param_grid` and `cv = 5` and store this instance in `grid_model` variable.  \n",
    "- Use `scaler` (which you created in Task-8) rescale `X` and assign it to `rescaledX`. \n",
    "- Fit `rescaledX` and `y` to `grid_model` and store the results in `grid_model_result`.\n",
    "-  Call the `best_score_` and `best_params_` attributes on the `grid_model_result` variable, then print both.\n",
    "\n",
    "<hr>\n",
    "\n",
    "Grid searching is a process of finding an optimal set of values for the parameters of a certain machine learning model. This is often known as hyperparameter optimization which is an active area of research. Note that, here we have used the word parameters and hyperparameters interchangeably, but they are not exactly the same. \n",
    "\n",
    "Helpful links:\n",
    "- Hyperparameter Optimization in Machine Learning Models [tutorial](https://www.datacamp.com/community/tutorials/parameter-optimization-machine-learning-models?tap_a=5644-dce66f&tap_s=3575)"
   ]
  },
  {
   "cell_type": "markdown",
   "metadata": {
    "tags": [
     "@hint"
    ]
   },
   "source": [
    "Are you defining `GridSearchCV` properly with the right parameters?\n",
    "\n",
    "Are you fitting the `grid_model` to the right data? You are supposed to pass `rescaledX` and `y` to `grid_model`.\n",
    "\n",
    "Are you calling the `best_score_` and `best_params_` attributes in the correct way?"
   ]
  },
  {
   "cell_type": "code",
   "execution_count": null,
   "metadata": {
    "tags": [
     "@sample_code"
    ]
   },
   "outputs": [],
   "source": [
    "# Instantiate GridSearchCV with the required parameters\n",
    "grid_model = GridSearchCV(estimator=..., param_grid=..., cv=...)\n",
    "\n",
    "# Use scaler to rescale X and assign it to rescaledX\n",
    "rescaledX = scaler....(...)\n",
    "\n",
    "# Fit data to grid_model\n",
    "grid_model_result = grid_model.fit(..., ...)\n",
    "\n",
    "# Summarize results\n",
    "best_score, best_params = ...\n",
    "print(\"Best: %f using %s\" % (..., ...))"
   ]
  },
  {
   "cell_type": "code",
   "execution_count": null,
   "metadata": {
    "tags": [
     "@solution"
    ]
   },
   "outputs": [],
   "source": [
    "# Instantiate GridSearchCV with the required parameters\n",
    "grid_model = GridSearchCV(estimator=logreg, param_grid=param_grid, cv=5)\n",
    "\n",
    "# Use scaler to rescale X and assign it to rescaledX\n",
    "rescaledX = scaler.fit_transform(X)\n",
    "\n",
    "# Fit grid_model to the data\n",
    "grid_model_result = grid_model.fit(rescaledX, y)\n",
    "\n",
    "# Summarize results\n",
    "best_score, best_params = grid_model_result.best_score_, grid_model_result.best_params_\n",
    "print(\"Best: %f using %s\" % (best_score, best_params))"
   ]
  },
  {
   "cell_type": "code",
   "execution_count": null,
   "metadata": {
    "tags": [
     "@tests"
    ]
   },
   "outputs": [],
   "source": [
    "%%nose\n",
    "\n",
    "def test_grid_model_defined():\n",
    "    assert \"grid_model\" in globals(),\\\n",
    "        \"The variable grid_model should be defined.\"\n",
    "\n",
    "def test_grid_model_defined_correctly():\n",
    "    correct_grid_model = GridSearchCV(estimator=logreg, param_grid=param_grid, cv=5)\n",
    "    assert str(correct_grid_model) == str(grid_model),\\\n",
    "        \"It doesn't appear that grid_model was defined correctly.\"\n",
    "\n",
    "def test_features_range_set_correctly():\n",
    "    min_value_in_rescaledX = np.amin(rescaledX)\n",
    "    max_value_in_rescaledX = np.amax(rescaledX)\n",
    "    assert min_value_in_rescaledX == 0.0 and max_value_in_rescaledX == 1.0, \\\n",
    "        \"It doesn't appear that the X was scaled to a minimum of 0 and a maximum of 1.\"    \n",
    "    \n",
    "def test_grid_model_results_defined():\n",
    "    assert \"grid_model_result\" in globals(),\\\n",
    "        \"The variable grid_model_result should be defined.\"\n",
    "    \n",
    "def test_grid_model_result_defined_correctly():\n",
    "    correct_grid_model_result = grid_model.fit(rescaledX, y)\n",
    "    assert str(correct_grid_model_result) == str(grid_model_result), \\\n",
    "        \"It doesn't appear that grid_model_result was defined correctly.\"\n",
    "    \n",
    "def test_best_score_defined_correctly():\n",
    "    correct_best_score = grid_model_result.best_score_\n",
    "    assert correct_best_score == best_score,\\\n",
    "        \"It looks like the variable best_score is not defined correctly.\"\n",
    "    \n",
    "def test_best_params_defined_correctly():\n",
    "    correct_best_params = grid_model_result.best_params_\n",
    "    assert correct_best_params == best_params,\\\n",
    "        \"It looks like the variable best_params is not defined correctly.\""
   ]
  }
 ],
 "metadata": {
  "celltoolbar": "Tags",
  "kernelspec": {
   "display_name": "Python 3",
   "language": "python",
   "name": "python3"
  },
  "language_info": {
   "codemirror_mode": {
    "name": "ipython",
    "version": 3
   },
   "file_extension": ".py",
   "mimetype": "text/x-python",
   "name": "python",
   "nbconvert_exporter": "python",
   "pygments_lexer": "ipython3",
   "version": "3.6.5"
  },
  "latex_envs": {
   "LaTeX_envs_menu_present": true,
   "autoclose": false,
   "autocomplete": true,
   "bibliofile": "biblio.bib",
   "cite_by": "apalike",
   "current_citInitial": 1,
   "eqLabelWithNumbers": true,
   "eqNumInitial": 1,
   "hotkeys": {
    "equation": "Ctrl-E",
    "itemize": "Ctrl-I"
   },
   "labels_anchors": false,
   "latex_user_defs": false,
   "report_style_numbering": false,
   "user_envs_cfg": false
  },
  "toc": {
   "base_numbering": 1,
   "nav_menu": {},
   "number_sections": false,
   "sideBar": true,
   "skip_h1_title": false,
   "title_cell": "Table of Contents",
   "title_sidebar": "Contents",
   "toc_cell": false,
   "toc_position": {},
   "toc_section_display": true,
   "toc_window_display": false
  }
 },
 "nbformat": 4,
 "nbformat_minor": 2
}
